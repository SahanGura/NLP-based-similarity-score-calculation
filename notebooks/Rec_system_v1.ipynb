{
  "nbformat": 4,
  "nbformat_minor": 0,
  "metadata": {
    "colab": {
      "name": "Rec_system_v1.ipynb",
      "provenance": []
    },
    "kernelspec": {
      "name": "python3",
      "display_name": "Python 3"
    },
    "language_info": {
      "name": "python"
    }
  },
  "cells": [
    {
      "cell_type": "code",
      "metadata": {
        "id": "5C9U276oOQhy"
      },
      "source": [
        "import numpy as np\n",
        "import pandas as pd"
      ],
      "execution_count": 2,
      "outputs": []
    },
    {
      "cell_type": "code",
      "metadata": {
        "id": "fDzjTRJNOWfg"
      },
      "source": [
        "skill_set = ['math','science','music','guitar','piano','singing','presentation','chemistry','physics']"
      ],
      "execution_count": 3,
      "outputs": []
    },
    {
      "cell_type": "code",
      "metadata": {
        "id": "NFT9pmjRP6zQ"
      },
      "source": [
        "dict = [{'ID':1,'country':'Sri Lanka','skill_set':['math','science','music','guitar']},\n",
        "        {'ID':2,'country':'England','skill_set':['singing','presentation']},\n",
        "        {'ID':3,'country':'USA','skill_set':['music','guitar','piano']},\n",
        "        {'ID':4,'country':'Sri Lanka','skill_set':['presentation','chemistry','physics']},\n",
        "        {'ID':5,'country':'Japan','skill_set':['math','music','guitar','piano']}\n",
        "]"
      ],
      "execution_count": 4,
      "outputs": []
    },
    {
      "cell_type": "code",
      "metadata": {
        "id": "fZ1AMK0tSAx-"
      },
      "source": [
        "df = pd.DataFrame(dict)"
      ],
      "execution_count": 5,
      "outputs": []
    },
    {
      "cell_type": "code",
      "metadata": {
        "colab": {
          "base_uri": "https://localhost:8080/",
          "height": 204
        },
        "id": "HHROGki9SE9f",
        "outputId": "6a055a43-ce32-4cdd-c67a-109e3c6ff38e"
      },
      "source": [
        "df"
      ],
      "execution_count": 6,
      "outputs": [
        {
          "output_type": "execute_result",
          "data": {
            "text/html": [
              "<div>\n",
              "<style scoped>\n",
              "    .dataframe tbody tr th:only-of-type {\n",
              "        vertical-align: middle;\n",
              "    }\n",
              "\n",
              "    .dataframe tbody tr th {\n",
              "        vertical-align: top;\n",
              "    }\n",
              "\n",
              "    .dataframe thead th {\n",
              "        text-align: right;\n",
              "    }\n",
              "</style>\n",
              "<table border=\"1\" class=\"dataframe\">\n",
              "  <thead>\n",
              "    <tr style=\"text-align: right;\">\n",
              "      <th></th>\n",
              "      <th>ID</th>\n",
              "      <th>country</th>\n",
              "      <th>skill_set</th>\n",
              "    </tr>\n",
              "  </thead>\n",
              "  <tbody>\n",
              "    <tr>\n",
              "      <th>0</th>\n",
              "      <td>1</td>\n",
              "      <td>Sri Lanka</td>\n",
              "      <td>[math, science, music, guitar]</td>\n",
              "    </tr>\n",
              "    <tr>\n",
              "      <th>1</th>\n",
              "      <td>2</td>\n",
              "      <td>England</td>\n",
              "      <td>[singing, presentation]</td>\n",
              "    </tr>\n",
              "    <tr>\n",
              "      <th>2</th>\n",
              "      <td>3</td>\n",
              "      <td>USA</td>\n",
              "      <td>[music, guitar, piano]</td>\n",
              "    </tr>\n",
              "    <tr>\n",
              "      <th>3</th>\n",
              "      <td>4</td>\n",
              "      <td>Sri Lanka</td>\n",
              "      <td>[presentation, chemistry, physics]</td>\n",
              "    </tr>\n",
              "    <tr>\n",
              "      <th>4</th>\n",
              "      <td>5</td>\n",
              "      <td>Japan</td>\n",
              "      <td>[math, music, guitar, piano]</td>\n",
              "    </tr>\n",
              "  </tbody>\n",
              "</table>\n",
              "</div>"
            ],
            "text/plain": [
              "   ID    country                           skill_set\n",
              "0   1  Sri Lanka      [math, science, music, guitar]\n",
              "1   2    England             [singing, presentation]\n",
              "2   3        USA              [music, guitar, piano]\n",
              "3   4  Sri Lanka  [presentation, chemistry, physics]\n",
              "4   5      Japan        [math, music, guitar, piano]"
            ]
          },
          "metadata": {},
          "execution_count": 6
        }
      ]
    },
    {
      "cell_type": "code",
      "metadata": {
        "id": "tdEoaWHfSGNF"
      },
      "source": [
        "df_expanded_v1 = df[\"skill_set\"].apply(pd.Series)\n"
      ],
      "execution_count": 7,
      "outputs": []
    },
    {
      "cell_type": "code",
      "metadata": {
        "colab": {
          "base_uri": "https://localhost:8080/",
          "height": 204
        },
        "id": "hm5pxcKFU565",
        "outputId": "64029d67-b801-498a-88ed-93a4e43f51ac"
      },
      "source": [
        "df_expanded_v1"
      ],
      "execution_count": 8,
      "outputs": [
        {
          "output_type": "execute_result",
          "data": {
            "text/html": [
              "<div>\n",
              "<style scoped>\n",
              "    .dataframe tbody tr th:only-of-type {\n",
              "        vertical-align: middle;\n",
              "    }\n",
              "\n",
              "    .dataframe tbody tr th {\n",
              "        vertical-align: top;\n",
              "    }\n",
              "\n",
              "    .dataframe thead th {\n",
              "        text-align: right;\n",
              "    }\n",
              "</style>\n",
              "<table border=\"1\" class=\"dataframe\">\n",
              "  <thead>\n",
              "    <tr style=\"text-align: right;\">\n",
              "      <th></th>\n",
              "      <th>0</th>\n",
              "      <th>1</th>\n",
              "      <th>2</th>\n",
              "      <th>3</th>\n",
              "    </tr>\n",
              "  </thead>\n",
              "  <tbody>\n",
              "    <tr>\n",
              "      <th>0</th>\n",
              "      <td>math</td>\n",
              "      <td>science</td>\n",
              "      <td>music</td>\n",
              "      <td>guitar</td>\n",
              "    </tr>\n",
              "    <tr>\n",
              "      <th>1</th>\n",
              "      <td>singing</td>\n",
              "      <td>presentation</td>\n",
              "      <td>NaN</td>\n",
              "      <td>NaN</td>\n",
              "    </tr>\n",
              "    <tr>\n",
              "      <th>2</th>\n",
              "      <td>music</td>\n",
              "      <td>guitar</td>\n",
              "      <td>piano</td>\n",
              "      <td>NaN</td>\n",
              "    </tr>\n",
              "    <tr>\n",
              "      <th>3</th>\n",
              "      <td>presentation</td>\n",
              "      <td>chemistry</td>\n",
              "      <td>physics</td>\n",
              "      <td>NaN</td>\n",
              "    </tr>\n",
              "    <tr>\n",
              "      <th>4</th>\n",
              "      <td>math</td>\n",
              "      <td>music</td>\n",
              "      <td>guitar</td>\n",
              "      <td>piano</td>\n",
              "    </tr>\n",
              "  </tbody>\n",
              "</table>\n",
              "</div>"
            ],
            "text/plain": [
              "              0             1        2       3\n",
              "0          math       science    music  guitar\n",
              "1       singing  presentation      NaN     NaN\n",
              "2         music        guitar    piano     NaN\n",
              "3  presentation     chemistry  physics     NaN\n",
              "4          math         music   guitar   piano"
            ]
          },
          "metadata": {},
          "execution_count": 8
        }
      ]
    },
    {
      "cell_type": "code",
      "metadata": {
        "id": "ybbbAmvFU7m4"
      },
      "source": [
        "#importing MultiLabelBinarizer\n",
        "from sklearn.preprocessing import MultiLabelBinarizer\n",
        "#instantiating MultiLabelBinarizer\n",
        "mlb = MultiLabelBinarizer()"
      ],
      "execution_count": 9,
      "outputs": []
    },
    {
      "cell_type": "code",
      "metadata": {
        "id": "AgEH8IaAW3sY"
      },
      "source": [
        "df_v2 = pd.DataFrame(mlb.fit_transform(df['skill_set']),columns=mlb.classes_)"
      ],
      "execution_count": 10,
      "outputs": []
    },
    {
      "cell_type": "code",
      "metadata": {
        "colab": {
          "base_uri": "https://localhost:8080/",
          "height": 204
        },
        "id": "HqierS7sW-dR",
        "outputId": "4282cb82-2c1b-46de-ceaf-ea8c7576073d"
      },
      "source": [
        "df_v2"
      ],
      "execution_count": 11,
      "outputs": [
        {
          "output_type": "execute_result",
          "data": {
            "text/html": [
              "<div>\n",
              "<style scoped>\n",
              "    .dataframe tbody tr th:only-of-type {\n",
              "        vertical-align: middle;\n",
              "    }\n",
              "\n",
              "    .dataframe tbody tr th {\n",
              "        vertical-align: top;\n",
              "    }\n",
              "\n",
              "    .dataframe thead th {\n",
              "        text-align: right;\n",
              "    }\n",
              "</style>\n",
              "<table border=\"1\" class=\"dataframe\">\n",
              "  <thead>\n",
              "    <tr style=\"text-align: right;\">\n",
              "      <th></th>\n",
              "      <th>chemistry</th>\n",
              "      <th>guitar</th>\n",
              "      <th>math</th>\n",
              "      <th>music</th>\n",
              "      <th>physics</th>\n",
              "      <th>piano</th>\n",
              "      <th>presentation</th>\n",
              "      <th>science</th>\n",
              "      <th>singing</th>\n",
              "    </tr>\n",
              "  </thead>\n",
              "  <tbody>\n",
              "    <tr>\n",
              "      <th>0</th>\n",
              "      <td>0</td>\n",
              "      <td>1</td>\n",
              "      <td>1</td>\n",
              "      <td>1</td>\n",
              "      <td>0</td>\n",
              "      <td>0</td>\n",
              "      <td>0</td>\n",
              "      <td>1</td>\n",
              "      <td>0</td>\n",
              "    </tr>\n",
              "    <tr>\n",
              "      <th>1</th>\n",
              "      <td>0</td>\n",
              "      <td>0</td>\n",
              "      <td>0</td>\n",
              "      <td>0</td>\n",
              "      <td>0</td>\n",
              "      <td>0</td>\n",
              "      <td>1</td>\n",
              "      <td>0</td>\n",
              "      <td>1</td>\n",
              "    </tr>\n",
              "    <tr>\n",
              "      <th>2</th>\n",
              "      <td>0</td>\n",
              "      <td>1</td>\n",
              "      <td>0</td>\n",
              "      <td>1</td>\n",
              "      <td>0</td>\n",
              "      <td>1</td>\n",
              "      <td>0</td>\n",
              "      <td>0</td>\n",
              "      <td>0</td>\n",
              "    </tr>\n",
              "    <tr>\n",
              "      <th>3</th>\n",
              "      <td>1</td>\n",
              "      <td>0</td>\n",
              "      <td>0</td>\n",
              "      <td>0</td>\n",
              "      <td>1</td>\n",
              "      <td>0</td>\n",
              "      <td>1</td>\n",
              "      <td>0</td>\n",
              "      <td>0</td>\n",
              "    </tr>\n",
              "    <tr>\n",
              "      <th>4</th>\n",
              "      <td>0</td>\n",
              "      <td>1</td>\n",
              "      <td>1</td>\n",
              "      <td>1</td>\n",
              "      <td>0</td>\n",
              "      <td>1</td>\n",
              "      <td>0</td>\n",
              "      <td>0</td>\n",
              "      <td>0</td>\n",
              "    </tr>\n",
              "  </tbody>\n",
              "</table>\n",
              "</div>"
            ],
            "text/plain": [
              "   chemistry  guitar  math  music  ...  piano  presentation  science  singing\n",
              "0          0       1     1      1  ...      0             0        1        0\n",
              "1          0       0     0      0  ...      0             1        0        1\n",
              "2          0       1     0      1  ...      1             0        0        0\n",
              "3          1       0     0      0  ...      0             1        0        0\n",
              "4          0       1     1      1  ...      1             0        0        0\n",
              "\n",
              "[5 rows x 9 columns]"
            ]
          },
          "metadata": {},
          "execution_count": 11
        }
      ]
    },
    {
      "cell_type": "code",
      "metadata": {
        "id": "rMSr9LZHW_0Y"
      },
      "source": [
        "df_merge_col = pd.merge(df, df_v2, left_index=True, right_index=True)"
      ],
      "execution_count": 13,
      "outputs": []
    },
    {
      "cell_type": "code",
      "metadata": {
        "colab": {
          "base_uri": "https://localhost:8080/",
          "height": 238
        },
        "id": "s9x2fBU8YrIP",
        "outputId": "78aad711-c7d3-4b3f-e07a-7d6f05536236"
      },
      "source": [
        "df_merge_col"
      ],
      "execution_count": 14,
      "outputs": [
        {
          "output_type": "execute_result",
          "data": {
            "text/html": [
              "<div>\n",
              "<style scoped>\n",
              "    .dataframe tbody tr th:only-of-type {\n",
              "        vertical-align: middle;\n",
              "    }\n",
              "\n",
              "    .dataframe tbody tr th {\n",
              "        vertical-align: top;\n",
              "    }\n",
              "\n",
              "    .dataframe thead th {\n",
              "        text-align: right;\n",
              "    }\n",
              "</style>\n",
              "<table border=\"1\" class=\"dataframe\">\n",
              "  <thead>\n",
              "    <tr style=\"text-align: right;\">\n",
              "      <th></th>\n",
              "      <th>ID</th>\n",
              "      <th>country</th>\n",
              "      <th>skill_set</th>\n",
              "      <th>chemistry</th>\n",
              "      <th>guitar</th>\n",
              "      <th>math</th>\n",
              "      <th>music</th>\n",
              "      <th>physics</th>\n",
              "      <th>piano</th>\n",
              "      <th>presentation</th>\n",
              "      <th>science</th>\n",
              "      <th>singing</th>\n",
              "    </tr>\n",
              "  </thead>\n",
              "  <tbody>\n",
              "    <tr>\n",
              "      <th>0</th>\n",
              "      <td>1</td>\n",
              "      <td>Sri Lanka</td>\n",
              "      <td>[math, science, music, guitar]</td>\n",
              "      <td>0</td>\n",
              "      <td>1</td>\n",
              "      <td>1</td>\n",
              "      <td>1</td>\n",
              "      <td>0</td>\n",
              "      <td>0</td>\n",
              "      <td>0</td>\n",
              "      <td>1</td>\n",
              "      <td>0</td>\n",
              "    </tr>\n",
              "    <tr>\n",
              "      <th>1</th>\n",
              "      <td>2</td>\n",
              "      <td>England</td>\n",
              "      <td>[singing, presentation]</td>\n",
              "      <td>0</td>\n",
              "      <td>0</td>\n",
              "      <td>0</td>\n",
              "      <td>0</td>\n",
              "      <td>0</td>\n",
              "      <td>0</td>\n",
              "      <td>1</td>\n",
              "      <td>0</td>\n",
              "      <td>1</td>\n",
              "    </tr>\n",
              "    <tr>\n",
              "      <th>2</th>\n",
              "      <td>3</td>\n",
              "      <td>USA</td>\n",
              "      <td>[music, guitar, piano]</td>\n",
              "      <td>0</td>\n",
              "      <td>1</td>\n",
              "      <td>0</td>\n",
              "      <td>1</td>\n",
              "      <td>0</td>\n",
              "      <td>1</td>\n",
              "      <td>0</td>\n",
              "      <td>0</td>\n",
              "      <td>0</td>\n",
              "    </tr>\n",
              "    <tr>\n",
              "      <th>3</th>\n",
              "      <td>4</td>\n",
              "      <td>Sri Lanka</td>\n",
              "      <td>[presentation, chemistry, physics]</td>\n",
              "      <td>1</td>\n",
              "      <td>0</td>\n",
              "      <td>0</td>\n",
              "      <td>0</td>\n",
              "      <td>1</td>\n",
              "      <td>0</td>\n",
              "      <td>1</td>\n",
              "      <td>0</td>\n",
              "      <td>0</td>\n",
              "    </tr>\n",
              "    <tr>\n",
              "      <th>4</th>\n",
              "      <td>5</td>\n",
              "      <td>Japan</td>\n",
              "      <td>[math, music, guitar, piano]</td>\n",
              "      <td>0</td>\n",
              "      <td>1</td>\n",
              "      <td>1</td>\n",
              "      <td>1</td>\n",
              "      <td>0</td>\n",
              "      <td>1</td>\n",
              "      <td>0</td>\n",
              "      <td>0</td>\n",
              "      <td>0</td>\n",
              "    </tr>\n",
              "  </tbody>\n",
              "</table>\n",
              "</div>"
            ],
            "text/plain": [
              "   ID    country  ... science  singing\n",
              "0   1  Sri Lanka  ...       1        0\n",
              "1   2    England  ...       0        1\n",
              "2   3        USA  ...       0        0\n",
              "3   4  Sri Lanka  ...       0        0\n",
              "4   5      Japan  ...       0        0\n",
              "\n",
              "[5 rows x 12 columns]"
            ]
          },
          "metadata": {},
          "execution_count": 14
        }
      ]
    },
    {
      "cell_type": "code",
      "metadata": {
        "id": "dVZjqBdtZchG"
      },
      "source": [
        "dataset = df_merge_col.drop(['skill_set'],axis=1)"
      ],
      "execution_count": 16,
      "outputs": []
    },
    {
      "cell_type": "code",
      "metadata": {
        "colab": {
          "base_uri": "https://localhost:8080/",
          "height": 204
        },
        "id": "vYihFQbyZ5Ss",
        "outputId": "7be3f5a5-49dc-4ff0-e482-cc9654e1f172"
      },
      "source": [
        "dataset"
      ],
      "execution_count": 17,
      "outputs": [
        {
          "output_type": "execute_result",
          "data": {
            "text/html": [
              "<div>\n",
              "<style scoped>\n",
              "    .dataframe tbody tr th:only-of-type {\n",
              "        vertical-align: middle;\n",
              "    }\n",
              "\n",
              "    .dataframe tbody tr th {\n",
              "        vertical-align: top;\n",
              "    }\n",
              "\n",
              "    .dataframe thead th {\n",
              "        text-align: right;\n",
              "    }\n",
              "</style>\n",
              "<table border=\"1\" class=\"dataframe\">\n",
              "  <thead>\n",
              "    <tr style=\"text-align: right;\">\n",
              "      <th></th>\n",
              "      <th>ID</th>\n",
              "      <th>country</th>\n",
              "      <th>chemistry</th>\n",
              "      <th>guitar</th>\n",
              "      <th>math</th>\n",
              "      <th>music</th>\n",
              "      <th>physics</th>\n",
              "      <th>piano</th>\n",
              "      <th>presentation</th>\n",
              "      <th>science</th>\n",
              "      <th>singing</th>\n",
              "    </tr>\n",
              "  </thead>\n",
              "  <tbody>\n",
              "    <tr>\n",
              "      <th>0</th>\n",
              "      <td>1</td>\n",
              "      <td>Sri Lanka</td>\n",
              "      <td>0</td>\n",
              "      <td>1</td>\n",
              "      <td>1</td>\n",
              "      <td>1</td>\n",
              "      <td>0</td>\n",
              "      <td>0</td>\n",
              "      <td>0</td>\n",
              "      <td>1</td>\n",
              "      <td>0</td>\n",
              "    </tr>\n",
              "    <tr>\n",
              "      <th>1</th>\n",
              "      <td>2</td>\n",
              "      <td>England</td>\n",
              "      <td>0</td>\n",
              "      <td>0</td>\n",
              "      <td>0</td>\n",
              "      <td>0</td>\n",
              "      <td>0</td>\n",
              "      <td>0</td>\n",
              "      <td>1</td>\n",
              "      <td>0</td>\n",
              "      <td>1</td>\n",
              "    </tr>\n",
              "    <tr>\n",
              "      <th>2</th>\n",
              "      <td>3</td>\n",
              "      <td>USA</td>\n",
              "      <td>0</td>\n",
              "      <td>1</td>\n",
              "      <td>0</td>\n",
              "      <td>1</td>\n",
              "      <td>0</td>\n",
              "      <td>1</td>\n",
              "      <td>0</td>\n",
              "      <td>0</td>\n",
              "      <td>0</td>\n",
              "    </tr>\n",
              "    <tr>\n",
              "      <th>3</th>\n",
              "      <td>4</td>\n",
              "      <td>Sri Lanka</td>\n",
              "      <td>1</td>\n",
              "      <td>0</td>\n",
              "      <td>0</td>\n",
              "      <td>0</td>\n",
              "      <td>1</td>\n",
              "      <td>0</td>\n",
              "      <td>1</td>\n",
              "      <td>0</td>\n",
              "      <td>0</td>\n",
              "    </tr>\n",
              "    <tr>\n",
              "      <th>4</th>\n",
              "      <td>5</td>\n",
              "      <td>Japan</td>\n",
              "      <td>0</td>\n",
              "      <td>1</td>\n",
              "      <td>1</td>\n",
              "      <td>1</td>\n",
              "      <td>0</td>\n",
              "      <td>1</td>\n",
              "      <td>0</td>\n",
              "      <td>0</td>\n",
              "      <td>0</td>\n",
              "    </tr>\n",
              "  </tbody>\n",
              "</table>\n",
              "</div>"
            ],
            "text/plain": [
              "   ID    country  chemistry  guitar  ...  piano  presentation  science  singing\n",
              "0   1  Sri Lanka          0       1  ...      0             0        1        0\n",
              "1   2    England          0       0  ...      0             1        0        1\n",
              "2   3        USA          0       1  ...      1             0        0        0\n",
              "3   4  Sri Lanka          1       0  ...      0             1        0        0\n",
              "4   5      Japan          0       1  ...      1             0        0        0\n",
              "\n",
              "[5 rows x 11 columns]"
            ]
          },
          "metadata": {},
          "execution_count": 17
        }
      ]
    },
    {
      "cell_type": "code",
      "metadata": {
        "id": "wPZBRllds4_O"
      },
      "source": [
        "def preprocess(dict):\n",
        "  df = pd.DataFrame(dict)\n",
        "\n",
        "  mlb = MultiLabelBinarizer()\n",
        "  df_v2 = pd.DataFrame(mlb.fit_transform(df['skill_set']),columns=mlb.classes_)\n",
        "  df_merge_col = pd.merge(df, df_v2, left_index=True, right_index=True)\n",
        "  dataset = df_merge_col.drop(['skill_set'],axis=1)\n",
        "\n",
        "  return dataset"
      ],
      "execution_count": 67,
      "outputs": []
    },
    {
      "cell_type": "code",
      "metadata": {
        "id": "IMAEc5Q_Z9s7"
      },
      "source": [
        "def find_tutors(student,tutors_df,country=False,n=5):\n",
        "  '''\n",
        "  input: pandas series of a specific student entry\n",
        "  country: whether to consider the country or not\n",
        "  returns: similar tutors\n",
        "  '''\n",
        "  if country:\n",
        "    tutors_df = tutors_df[tutors_df['country']==student['country']]\n",
        "\n",
        "  student = student.drop(['country','ID'])\n",
        "  tutors_df = tutors_df.drop(['country','ID'],axis=1)\n",
        "\n",
        "  mask = sum([tutors_df==student])\n",
        "  print(mask)\n",
        "  sim_scores = mask.sum(axis=1)\n",
        "\n",
        "  return sim_scores.nlargest(n)\n"
      ],
      "execution_count": 89,
      "outputs": []
    },
    {
      "cell_type": "code",
      "metadata": {
        "id": "ayT-mN74lbjB"
      },
      "source": [
        "st1 = dataset.iloc[2].drop(['country','ID'])\n",
        "st2 = dataset.iloc[3].drop(['country','ID'])\n",
        "dataset_v2 = dataset.drop(['country','ID'],axis=1)"
      ],
      "execution_count": 46,
      "outputs": []
    },
    {
      "cell_type": "code",
      "metadata": {
        "id": "Mt5WopCelwI9"
      },
      "source": [
        "st_mask = [dataset_v2==st2]"
      ],
      "execution_count": 47,
      "outputs": []
    },
    {
      "cell_type": "code",
      "metadata": {
        "colab": {
          "base_uri": "https://localhost:8080/"
        },
        "id": "lv93RsurmOpg",
        "outputId": "e4445fce-6aeb-4367-cd2e-572b401ea6e9"
      },
      "source": [
        "st_mask"
      ],
      "execution_count": 48,
      "outputs": [
        {
          "output_type": "execute_result",
          "data": {
            "text/plain": [
              "[   chemistry  guitar   math  music  ...  piano  presentation  science  singing\n",
              " 0      False   False  False  False  ...   True         False    False     True\n",
              " 1      False    True   True   True  ...   True          True     True    False\n",
              " 2      False   False   True  False  ...  False         False     True     True\n",
              " 3       True    True   True   True  ...   True          True     True     True\n",
              " 4      False   False  False  False  ...  False         False     True     True\n",
              " \n",
              " [5 rows x 9 columns]]"
            ]
          },
          "metadata": {},
          "execution_count": 48
        }
      ]
    },
    {
      "cell_type": "code",
      "metadata": {
        "colab": {
          "base_uri": "https://localhost:8080/"
        },
        "id": "O2oBxXVemdJ2",
        "outputId": "0120edb2-1f78-4e12-b15e-375bfe76d46f"
      },
      "source": [
        "st_mask2 = sum(st_mask)\n",
        "print(st_mask2.sum(axis=1))\n",
        "scores = st_mask2.sum(axis=1)\n",
        "print(scores.idxmax())\n",
        "print(scores.nlargest(3))\n",
        "# print(sum(sum(st_mask)))\n",
        "# print(st_mask2)"
      ],
      "execution_count": 66,
      "outputs": [
        {
          "output_type": "stream",
          "name": "stdout",
          "text": [
            "0    2\n",
            "1    6\n",
            "2    3\n",
            "3    9\n",
            "4    2\n",
            "dtype: int64\n",
            "3\n",
            "3    9\n",
            "1    6\n",
            "2    3\n",
            "dtype: int64\n"
          ]
        }
      ]
    },
    {
      "cell_type": "code",
      "metadata": {
        "id": "0JMMh1Bcte4u"
      },
      "source": [
        "dict2 = [{'ID':1,'country':'Sri Lanka','skill_set':['math','guitar']},\n",
        "        {'ID':2,'country':'England','skill_set':['singing','presentation']},\n",
        "        {'ID':3,'country':'USA','skill_set':['guitar','piano']},\n",
        "        {'ID':4,'country':'Sri Lanka','skill_set':['presentation','physics']},\n",
        "        {'ID':5,'country':'USA','skill_set':['math','piano']},\n",
        "        {'ID':6,'country':'India','skill_set':['math','piano','singing','guitar']}\n",
        "]"
      ],
      "execution_count": 90,
      "outputs": []
    },
    {
      "cell_type": "code",
      "metadata": {
        "id": "Hvz7S89wtx8r"
      },
      "source": [
        "tutors_df = preprocess(dict2)"
      ],
      "execution_count": 91,
      "outputs": []
    },
    {
      "cell_type": "code",
      "metadata": {
        "colab": {
          "base_uri": "https://localhost:8080/",
          "height": 111
        },
        "id": "WL1LOGT1t210",
        "outputId": "95376dc9-7fd1-4ef3-8391-31265a323a27"
      },
      "source": [
        "student = dataset.iloc[2]\n",
        "tutors_df[tutors_df['country']==student['country']]"
      ],
      "execution_count": 92,
      "outputs": [
        {
          "output_type": "execute_result",
          "data": {
            "text/html": [
              "<div>\n",
              "<style scoped>\n",
              "    .dataframe tbody tr th:only-of-type {\n",
              "        vertical-align: middle;\n",
              "    }\n",
              "\n",
              "    .dataframe tbody tr th {\n",
              "        vertical-align: top;\n",
              "    }\n",
              "\n",
              "    .dataframe thead th {\n",
              "        text-align: right;\n",
              "    }\n",
              "</style>\n",
              "<table border=\"1\" class=\"dataframe\">\n",
              "  <thead>\n",
              "    <tr style=\"text-align: right;\">\n",
              "      <th></th>\n",
              "      <th>ID</th>\n",
              "      <th>country</th>\n",
              "      <th>guitar</th>\n",
              "      <th>math</th>\n",
              "      <th>physics</th>\n",
              "      <th>piano</th>\n",
              "      <th>presentation</th>\n",
              "      <th>singing</th>\n",
              "    </tr>\n",
              "  </thead>\n",
              "  <tbody>\n",
              "    <tr>\n",
              "      <th>2</th>\n",
              "      <td>3</td>\n",
              "      <td>USA</td>\n",
              "      <td>1</td>\n",
              "      <td>0</td>\n",
              "      <td>0</td>\n",
              "      <td>1</td>\n",
              "      <td>0</td>\n",
              "      <td>0</td>\n",
              "    </tr>\n",
              "    <tr>\n",
              "      <th>4</th>\n",
              "      <td>5</td>\n",
              "      <td>USA</td>\n",
              "      <td>0</td>\n",
              "      <td>1</td>\n",
              "      <td>0</td>\n",
              "      <td>1</td>\n",
              "      <td>0</td>\n",
              "      <td>0</td>\n",
              "    </tr>\n",
              "  </tbody>\n",
              "</table>\n",
              "</div>"
            ],
            "text/plain": [
              "   ID country  guitar  math  physics  piano  presentation  singing\n",
              "2   3     USA       1     0        0      1             0        0\n",
              "4   5     USA       0     1        0      1             0        0"
            ]
          },
          "metadata": {},
          "execution_count": 92
        }
      ]
    },
    {
      "cell_type": "code",
      "metadata": {
        "colab": {
          "base_uri": "https://localhost:8080/"
        },
        "id": "RZXnzJgAuAD9",
        "outputId": "ec480a9f-5ca6-4edf-ce81-3c5ebe403806"
      },
      "source": [
        "similat_tuts = find_tutors(student,tutors_df)"
      ],
      "execution_count": 93,
      "outputs": [
        {
          "output_type": "stream",
          "name": "stdout",
          "text": [
            "   chemistry  guitar  math  music  ...  piano  presentation  science  singing\n",
            "0          0       1     0      0  ...      0             1        0        1\n",
            "1          0       0     1      0  ...      0             0        0        0\n",
            "2          0       1     1      0  ...      1             1        0        1\n",
            "3          0       0     1      0  ...      0             0        0        1\n",
            "4          0       0     0      0  ...      1             1        0        1\n",
            "5          0       1     0      0  ...      1             1        0        0\n",
            "\n",
            "[6 rows x 9 columns]\n"
          ]
        }
      ]
    },
    {
      "cell_type": "code",
      "metadata": {
        "colab": {
          "base_uri": "https://localhost:8080/"
        },
        "id": "F-tLLkVSuzfx",
        "outputId": "ab86ac5e-5b36-4a0d-cbde-b96eb3368306"
      },
      "source": [
        "similat_tuts"
      ],
      "execution_count": 86,
      "outputs": [
        {
          "output_type": "execute_result",
          "data": {
            "text/plain": [
              "2    6\n",
              "0    4\n",
              "4    4\n",
              "5    4\n",
              "1    2\n",
              "dtype: int64"
            ]
          },
          "metadata": {},
          "execution_count": 86
        }
      ]
    },
    {
      "cell_type": "code",
      "metadata": {
        "colab": {
          "base_uri": "https://localhost:8080/",
          "height": 235
        },
        "id": "C8LtuJgSu5JQ",
        "outputId": "6a5b8e8c-6ca6-425d-d808-185b9b2dfec6"
      },
      "source": [
        "tutors_df"
      ],
      "execution_count": 87,
      "outputs": [
        {
          "output_type": "execute_result",
          "data": {
            "text/html": [
              "<div>\n",
              "<style scoped>\n",
              "    .dataframe tbody tr th:only-of-type {\n",
              "        vertical-align: middle;\n",
              "    }\n",
              "\n",
              "    .dataframe tbody tr th {\n",
              "        vertical-align: top;\n",
              "    }\n",
              "\n",
              "    .dataframe thead th {\n",
              "        text-align: right;\n",
              "    }\n",
              "</style>\n",
              "<table border=\"1\" class=\"dataframe\">\n",
              "  <thead>\n",
              "    <tr style=\"text-align: right;\">\n",
              "      <th></th>\n",
              "      <th>ID</th>\n",
              "      <th>country</th>\n",
              "      <th>guitar</th>\n",
              "      <th>math</th>\n",
              "      <th>physics</th>\n",
              "      <th>piano</th>\n",
              "      <th>presentation</th>\n",
              "      <th>singing</th>\n",
              "    </tr>\n",
              "  </thead>\n",
              "  <tbody>\n",
              "    <tr>\n",
              "      <th>0</th>\n",
              "      <td>1</td>\n",
              "      <td>Sri Lanka</td>\n",
              "      <td>1</td>\n",
              "      <td>1</td>\n",
              "      <td>0</td>\n",
              "      <td>0</td>\n",
              "      <td>0</td>\n",
              "      <td>0</td>\n",
              "    </tr>\n",
              "    <tr>\n",
              "      <th>1</th>\n",
              "      <td>2</td>\n",
              "      <td>England</td>\n",
              "      <td>0</td>\n",
              "      <td>0</td>\n",
              "      <td>0</td>\n",
              "      <td>0</td>\n",
              "      <td>1</td>\n",
              "      <td>1</td>\n",
              "    </tr>\n",
              "    <tr>\n",
              "      <th>2</th>\n",
              "      <td>3</td>\n",
              "      <td>USA</td>\n",
              "      <td>1</td>\n",
              "      <td>0</td>\n",
              "      <td>0</td>\n",
              "      <td>1</td>\n",
              "      <td>0</td>\n",
              "      <td>0</td>\n",
              "    </tr>\n",
              "    <tr>\n",
              "      <th>3</th>\n",
              "      <td>4</td>\n",
              "      <td>Sri Lanka</td>\n",
              "      <td>0</td>\n",
              "      <td>0</td>\n",
              "      <td>1</td>\n",
              "      <td>0</td>\n",
              "      <td>1</td>\n",
              "      <td>0</td>\n",
              "    </tr>\n",
              "    <tr>\n",
              "      <th>4</th>\n",
              "      <td>5</td>\n",
              "      <td>USA</td>\n",
              "      <td>0</td>\n",
              "      <td>1</td>\n",
              "      <td>0</td>\n",
              "      <td>1</td>\n",
              "      <td>0</td>\n",
              "      <td>0</td>\n",
              "    </tr>\n",
              "    <tr>\n",
              "      <th>5</th>\n",
              "      <td>6</td>\n",
              "      <td>India</td>\n",
              "      <td>1</td>\n",
              "      <td>1</td>\n",
              "      <td>0</td>\n",
              "      <td>1</td>\n",
              "      <td>0</td>\n",
              "      <td>1</td>\n",
              "    </tr>\n",
              "  </tbody>\n",
              "</table>\n",
              "</div>"
            ],
            "text/plain": [
              "   ID    country  guitar  math  physics  piano  presentation  singing\n",
              "0   1  Sri Lanka       1     1        0      0             0        0\n",
              "1   2    England       0     0        0      0             1        1\n",
              "2   3        USA       1     0        0      1             0        0\n",
              "3   4  Sri Lanka       0     0        1      0             1        0\n",
              "4   5        USA       0     1        0      1             0        0\n",
              "5   6      India       1     1        0      1             0        1"
            ]
          },
          "metadata": {},
          "execution_count": 87
        }
      ]
    },
    {
      "cell_type": "code",
      "metadata": {
        "colab": {
          "base_uri": "https://localhost:8080/"
        },
        "id": "A3rWqh-gvHW5",
        "outputId": "a25b65be-03d3-47ce-e28b-a7facbbbd121"
      },
      "source": [
        "student"
      ],
      "execution_count": 88,
      "outputs": [
        {
          "output_type": "execute_result",
          "data": {
            "text/plain": [
              "ID                3\n",
              "country         USA\n",
              "chemistry         0\n",
              "guitar            1\n",
              "math              0\n",
              "music             1\n",
              "physics           0\n",
              "piano             1\n",
              "presentation      0\n",
              "science           0\n",
              "singing           0\n",
              "Name: 2, dtype: object"
            ]
          },
          "metadata": {},
          "execution_count": 88
        }
      ]
    },
    {
      "cell_type": "code",
      "metadata": {
        "id": "Rbus0pzIvj75"
      },
      "source": [
        ""
      ],
      "execution_count": null,
      "outputs": []
    }
  ]
}