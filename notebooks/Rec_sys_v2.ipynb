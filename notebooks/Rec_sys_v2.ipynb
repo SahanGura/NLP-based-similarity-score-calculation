{
  "nbformat": 4,
  "nbformat_minor": 0,
  "metadata": {
    "colab": {
      "name": "Rec_sys_v2.ipynb",
      "provenance": []
    },
    "kernelspec": {
      "name": "python3",
      "display_name": "Python 3"
    },
    "language_info": {
      "name": "python"
    }
  },
  "cells": [
    {
      "cell_type": "code",
      "metadata": {
        "id": "m_WYH0aUxpdb"
      },
      "source": [
        "import numpy as np\n",
        "import pandas as pd\n",
        "from sklearn.preprocessing import MultiLabelBinarizer"
      ],
      "execution_count": 1,
      "outputs": []
    },
    {
      "cell_type": "code",
      "metadata": {
        "id": "LBYYRBKOxusI"
      },
      "source": [
        "dict1 = [{'ID':1,'country':'Sri Lanka','skill_set':['math','science','music','guitar']},\n",
        "        {'ID':2,'country':'England','skill_set':['singing','presentation']},\n",
        "        {'ID':3,'country':'USA','skill_set':['music','guitar','piano']},\n",
        "        {'ID':4,'country':'Sri Lanka','skill_set':['presentation','chemistry','physics']},\n",
        "        {'ID':5,'country':'Japan','skill_set':['math','music','guitar','piano']}\n",
        "]"
      ],
      "execution_count": 2,
      "outputs": []
    },
    {
      "cell_type": "code",
      "metadata": {
        "id": "fdKJOnPfxxey"
      },
      "source": [
        "dict2 = [{'ID':1,'country':'Sri Lanka','skill_set':['math','guitar']},\n",
        "        {'ID':2,'country':'England','skill_set':['singing','presentation']},\n",
        "        {'ID':3,'country':'USA','skill_set':['guitar','piano']},\n",
        "        {'ID':4,'country':'Sri Lanka','skill_set':['presentation','physics']},\n",
        "        {'ID':5,'country':'USA','skill_set':['math','piano']},\n",
        "        {'ID':6,'country':'India','skill_set':['math','piano','singing','guitar']}\n",
        "]"
      ],
      "execution_count": 3,
      "outputs": []
    },
    {
      "cell_type": "code",
      "metadata": {
        "id": "9GlejSMJxxn6"
      },
      "source": [
        "def preprocess(dict):\n",
        "  df = pd.DataFrame(dict)\n",
        "\n",
        "  mlb = MultiLabelBinarizer()\n",
        "  df_v2 = pd.DataFrame(mlb.fit_transform(df['skill_set']),columns=mlb.classes_)\n",
        "  df_merge_col = pd.merge(df, df_v2, left_index=True, right_index=True)\n",
        "  dataset = df_merge_col.drop(['skill_set'],axis=1)\n",
        "\n",
        "  return dataset"
      ],
      "execution_count": 4,
      "outputs": []
    },
    {
      "cell_type": "code",
      "metadata": {
        "id": "0sPt73J9xzzA"
      },
      "source": [
        "def find_tutors(student,tutors_df,country=False,n=5):\n",
        "  '''\n",
        "  input: pandas series of a specific student entry\n",
        "  country: whether to consider the country or not\n",
        "  returns: similar tutors\n",
        "  '''\n",
        "  if country:\n",
        "    tutors_df = tutors_df[tutors_df['country']==student['country']]\n",
        "\n",
        "  student = student.drop(['country','ID'])\n",
        "  tutors_df = tutors_df.drop(['country','ID'],axis=1)\n",
        "\n",
        "  mask = sum([tutors_df==student])\n",
        "  print(mask)\n",
        "  sim_scores = mask.sum(axis=1)\n",
        "\n",
        "  return sim_scores.nlargest(n)"
      ],
      "execution_count": 5,
      "outputs": []
    },
    {
      "cell_type": "code",
      "metadata": {
        "id": "4jqfuGDxyJuG"
      },
      "source": [
        "students_df = preprocess(dict1)"
      ],
      "execution_count": 6,
      "outputs": []
    },
    {
      "cell_type": "code",
      "metadata": {
        "colab": {
          "base_uri": "https://localhost:8080/",
          "height": 111
        },
        "id": "25k6UF1tx6R7",
        "outputId": "0ea6ad1b-8eb9-4286-8569-6ff598122545"
      },
      "source": [
        "tutors_df = preprocess(dict2)\n",
        "student = students_df.iloc[2]\n",
        "tutors_df[tutors_df['country']==student['country']]\n"
      ],
      "execution_count": 7,
      "outputs": [
        {
          "output_type": "execute_result",
          "data": {
            "text/html": [
              "<div>\n",
              "<style scoped>\n",
              "    .dataframe tbody tr th:only-of-type {\n",
              "        vertical-align: middle;\n",
              "    }\n",
              "\n",
              "    .dataframe tbody tr th {\n",
              "        vertical-align: top;\n",
              "    }\n",
              "\n",
              "    .dataframe thead th {\n",
              "        text-align: right;\n",
              "    }\n",
              "</style>\n",
              "<table border=\"1\" class=\"dataframe\">\n",
              "  <thead>\n",
              "    <tr style=\"text-align: right;\">\n",
              "      <th></th>\n",
              "      <th>ID</th>\n",
              "      <th>country</th>\n",
              "      <th>guitar</th>\n",
              "      <th>math</th>\n",
              "      <th>physics</th>\n",
              "      <th>piano</th>\n",
              "      <th>presentation</th>\n",
              "      <th>singing</th>\n",
              "    </tr>\n",
              "  </thead>\n",
              "  <tbody>\n",
              "    <tr>\n",
              "      <th>2</th>\n",
              "      <td>3</td>\n",
              "      <td>USA</td>\n",
              "      <td>1</td>\n",
              "      <td>0</td>\n",
              "      <td>0</td>\n",
              "      <td>1</td>\n",
              "      <td>0</td>\n",
              "      <td>0</td>\n",
              "    </tr>\n",
              "    <tr>\n",
              "      <th>4</th>\n",
              "      <td>5</td>\n",
              "      <td>USA</td>\n",
              "      <td>0</td>\n",
              "      <td>1</td>\n",
              "      <td>0</td>\n",
              "      <td>1</td>\n",
              "      <td>0</td>\n",
              "      <td>0</td>\n",
              "    </tr>\n",
              "  </tbody>\n",
              "</table>\n",
              "</div>"
            ],
            "text/plain": [
              "   ID country  guitar  math  physics  piano  presentation  singing\n",
              "2   3     USA       1     0        0      1             0        0\n",
              "4   5     USA       0     1        0      1             0        0"
            ]
          },
          "metadata": {},
          "execution_count": 7
        }
      ]
    },
    {
      "cell_type": "code",
      "metadata": {
        "colab": {
          "base_uri": "https://localhost:8080/"
        },
        "id": "LffsntGrx6XX",
        "outputId": "32b22070-9b95-4f1d-fd0b-82b55a483cd2"
      },
      "source": [
        "similat_tuts = find_tutors(student,tutors_df)\n",
        "similat_tuts"
      ],
      "execution_count": 8,
      "outputs": [
        {
          "output_type": "stream",
          "name": "stdout",
          "text": [
            "   chemistry  guitar  math  music  ...  piano  presentation  science  singing\n",
            "0          0       1     0      0  ...      0             1        0        1\n",
            "1          0       0     1      0  ...      0             0        0        0\n",
            "2          0       1     1      0  ...      1             1        0        1\n",
            "3          0       0     1      0  ...      0             0        0        1\n",
            "4          0       0     0      0  ...      1             1        0        1\n",
            "5          0       1     0      0  ...      1             1        0        0\n",
            "\n",
            "[6 rows x 9 columns]\n"
          ]
        },
        {
          "output_type": "execute_result",
          "data": {
            "text/plain": [
              "2    6\n",
              "0    4\n",
              "4    4\n",
              "5    4\n",
              "1    2\n",
              "dtype: int64"
            ]
          },
          "metadata": {},
          "execution_count": 8
        }
      ]
    },
    {
      "cell_type": "code",
      "metadata": {
        "id": "h2gwEKQmyVf8"
      },
      "source": [
        ""
      ],
      "execution_count": null,
      "outputs": []
    }
  ]
}