{
  "nbformat": 4,
  "nbformat_minor": 0,
  "metadata": {
    "colab": {
      "name": "Rec_sys_v2.ipynb",
      "provenance": []
    },
    "kernelspec": {
      "name": "python3",
      "display_name": "Python 3"
    },
    "language_info": {
      "name": "python"
    }
  },
  "cells": [
    {
      "cell_type": "code",
      "metadata": {
        "id": "m_WYH0aUxpdb"
      },
      "source": [
        "import numpy as np\n",
        "import pandas as pd\n",
        "from sklearn.preprocessing import MultiLabelBinarizer\n",
        "from sklearn.preprocessing import MinMaxScaler"
      ],
      "execution_count": 125,
      "outputs": []
    },
    {
      "cell_type": "code",
      "metadata": {
        "id": "uMJHRlTWRi91"
      },
      "source": [
        "#Conditions\n",
        "# MIN NO OF SKILLS FOR AN ENTRY: 5\n",
        "# MAX NO OF SKILLS FOR AN ENTRY: 10\n",
        "\n",
        "#Variables\n",
        "skill_count = 9"
      ],
      "execution_count": 126,
      "outputs": []
    },
    {
      "cell_type": "code",
      "metadata": {
        "id": "LBYYRBKOxusI"
      },
      "source": [
        "dict1 = [{'ID':1,'country':'Sri Lanka','skill_set':['math','science','music','guitar']},\n",
        "        {'ID':2,'country':'England','skill_set':['singing','presentation']},\n",
        "        {'ID':3,'country':'USA','skill_set':['music','guitar','piano']},\n",
        "        {'ID':4,'country':'Sri Lanka','skill_set':['presentation','chemistry','physics']},\n",
        "        {'ID':5,'country':'Japan','skill_set':['math','music','guitar','piano']}\n",
        "]"
      ],
      "execution_count": 127,
      "outputs": []
    },
    {
      "cell_type": "code",
      "metadata": {
        "id": "fdKJOnPfxxey"
      },
      "source": [
        "dict2 = [{'ID':1,'country':'Sri Lanka','skill_set':['math','guitar'],'rec_count':5},\n",
        "        {'ID':2,'country':'England','skill_set':['singing','presentation'],'rec_count':7},\n",
        "        {'ID':3,'country':'USA','skill_set':['guitar','piano'],'rec_count':2},\n",
        "        {'ID':4,'country':'Sri Lanka','skill_set':['presentation','physics'],'rec_count':1},\n",
        "        {'ID':5,'country':'USA','skill_set':['math','piano'],'rec_count':8},\n",
        "        {'ID':6,'country':'India','skill_set':['math','piano','singing','guitar'],'rec_count':0}\n",
        "]"
      ],
      "execution_count": 128,
      "outputs": []
    },
    {
      "cell_type": "code",
      "metadata": {
        "id": "9GlejSMJxxn6"
      },
      "source": [
        "def preprocess(dict):\n",
        "  df = pd.DataFrame(dict)\n",
        "\n",
        "  mlb = MultiLabelBinarizer()\n",
        "  df_v2 = pd.DataFrame(mlb.fit_transform(df['skill_set']),columns=mlb.classes_)\n",
        "  df_merge_col = pd.merge(df, df_v2, left_index=True, right_index=True)\n",
        "  dataset = df_merge_col.drop(['skill_set'],axis=1)\n",
        "\n",
        "  return dataset"
      ],
      "execution_count": 129,
      "outputs": []
    },
    {
      "cell_type": "code",
      "metadata": {
        "id": "0sPt73J9xzzA"
      },
      "source": [
        "def find_tutors(student,tutors_df,country=False,n=5):\n",
        "  '''\n",
        "  input: pandas series of a specific student entry\n",
        "  country: whether to consider the country or not\n",
        "  returns: similar tutors\n",
        "  '''\n",
        "  if country:\n",
        "    tutors_df_mod = tutors_df[tutors_df['country']==student['country']]\n",
        "\n",
        "  student = student.drop(['country','ID'])\n",
        "  tutors_df_mod = tutors_df.drop(['country','ID','rec_count'],axis=1)\n",
        "\n",
        "  mask = sum([tutors_df_mod==student])\n",
        "  print(mask)\n",
        "  sim_scores = mask.sum(axis=1)\n",
        "\n",
        "  sim_tuts = sim_scores.nlargest(n)\n",
        "  sim = tutors_df[tutors_df.index.isin(sim_tuts.index)]\n",
        "  sim['sim_score'] = sim_tuts\n",
        "\n",
        "  return sim"
      ],
      "execution_count": 130,
      "outputs": []
    },
    {
      "cell_type": "code",
      "metadata": {
        "id": "4rw4VvRuS1_b"
      },
      "source": [
        "def rec_score(sim_tuts_df):\n",
        "    '''\n",
        "  input: similar tutors dataframe\n",
        "  w_sim: similarity weight\n",
        "  w_rec: reccomender count weight\n",
        "  returns: modified dataframe with final recommending score\n",
        "  '''\n",
        "  sim_tuts_df_copy = sim_tuts_df.copy()\n",
        "  sim_tuts_df_copy['sim_score'] = MinMaxScaler().fit_transform(np.array(sim_tuts_df['sim_score']).reshape(-1,1))\n",
        "  # sim_tuts_df_copy['rec_count'] = MinMaxScaler().fit_transform(np.array(sim_tuts_df['rec_count']).reshape(-1,1))\n",
        "\n",
        "  tot_rec_count = sum(sim_tuts_df_copy['rec_count'])\n",
        "  print(tot_rec_count)\n",
        "  sim_tuts_df_copy['rec_score'] = (tot_rec_count / ( sim_tuts_df_copy['rec_count'] +1 ))\n",
        "  sim_tuts_df_copy['rec_score'] = MinMaxScaler().fit_transform(np.array(sim_tuts_df_copy['rec_score']).reshape(-1,1))\n",
        "  sim_tuts_df_copy['final_score'] = sim_tuts_df_copy['sim_score'] + sim_tuts_df_copy['rec_score']\n",
        "\n",
        "  return sim_tuts_df_copy"
      ],
      "execution_count": 131,
      "outputs": []
    },
    {
      "cell_type": "code",
      "metadata": {
        "id": "4jqfuGDxyJuG"
      },
      "source": [
        "students_df = preprocess(dict1)"
      ],
      "execution_count": 132,
      "outputs": []
    },
    {
      "cell_type": "code",
      "metadata": {
        "colab": {
          "base_uri": "https://localhost:8080/",
          "height": 111
        },
        "id": "25k6UF1tx6R7",
        "outputId": "cb26d074-f2d6-4178-b391-194aea577325"
      },
      "source": [
        "tutors_df = preprocess(dict2)\n",
        "student = students_df.iloc[2]\n",
        "tutors_df[tutors_df['country']==student['country']]\n"
      ],
      "execution_count": 133,
      "outputs": [
        {
          "output_type": "execute_result",
          "data": {
            "text/html": [
              "<div>\n",
              "<style scoped>\n",
              "    .dataframe tbody tr th:only-of-type {\n",
              "        vertical-align: middle;\n",
              "    }\n",
              "\n",
              "    .dataframe tbody tr th {\n",
              "        vertical-align: top;\n",
              "    }\n",
              "\n",
              "    .dataframe thead th {\n",
              "        text-align: right;\n",
              "    }\n",
              "</style>\n",
              "<table border=\"1\" class=\"dataframe\">\n",
              "  <thead>\n",
              "    <tr style=\"text-align: right;\">\n",
              "      <th></th>\n",
              "      <th>ID</th>\n",
              "      <th>country</th>\n",
              "      <th>rec_count</th>\n",
              "      <th>guitar</th>\n",
              "      <th>math</th>\n",
              "      <th>physics</th>\n",
              "      <th>piano</th>\n",
              "      <th>presentation</th>\n",
              "      <th>singing</th>\n",
              "    </tr>\n",
              "  </thead>\n",
              "  <tbody>\n",
              "    <tr>\n",
              "      <th>2</th>\n",
              "      <td>3</td>\n",
              "      <td>USA</td>\n",
              "      <td>2</td>\n",
              "      <td>1</td>\n",
              "      <td>0</td>\n",
              "      <td>0</td>\n",
              "      <td>1</td>\n",
              "      <td>0</td>\n",
              "      <td>0</td>\n",
              "    </tr>\n",
              "    <tr>\n",
              "      <th>4</th>\n",
              "      <td>5</td>\n",
              "      <td>USA</td>\n",
              "      <td>8</td>\n",
              "      <td>0</td>\n",
              "      <td>1</td>\n",
              "      <td>0</td>\n",
              "      <td>1</td>\n",
              "      <td>0</td>\n",
              "      <td>0</td>\n",
              "    </tr>\n",
              "  </tbody>\n",
              "</table>\n",
              "</div>"
            ],
            "text/plain": [
              "   ID country  rec_count  guitar  math  physics  piano  presentation  singing\n",
              "2   3     USA          2       1     0        0      1             0        0\n",
              "4   5     USA          8       0     1        0      1             0        0"
            ]
          },
          "metadata": {},
          "execution_count": 133
        }
      ]
    },
    {
      "cell_type": "code",
      "metadata": {
        "colab": {
          "base_uri": "https://localhost:8080/",
          "height": 442
        },
        "id": "LffsntGrx6XX",
        "outputId": "decbdf93-a129-4822-876d-799feaee82c9"
      },
      "source": [
        "sim_tuts_df = find_tutors(student,tutors_df)\n",
        "sim_tuts_df"
      ],
      "execution_count": 134,
      "outputs": [
        {
          "output_type": "stream",
          "name": "stdout",
          "text": [
            "   chemistry  guitar  math  music  ...  piano  presentation  science  singing\n",
            "0          0       1     0      0  ...      0             1        0        1\n",
            "1          0       0     1      0  ...      0             0        0        0\n",
            "2          0       1     1      0  ...      1             1        0        1\n",
            "3          0       0     1      0  ...      0             0        0        1\n",
            "4          0       0     0      0  ...      1             1        0        1\n",
            "5          0       1     0      0  ...      1             1        0        0\n",
            "\n",
            "[6 rows x 9 columns]\n"
          ]
        },
        {
          "output_type": "stream",
          "name": "stderr",
          "text": [
            "/usr/local/lib/python3.7/dist-packages/ipykernel_launcher.py:19: SettingWithCopyWarning: \n",
            "A value is trying to be set on a copy of a slice from a DataFrame.\n",
            "Try using .loc[row_indexer,col_indexer] = value instead\n",
            "\n",
            "See the caveats in the documentation: https://pandas.pydata.org/pandas-docs/stable/user_guide/indexing.html#returning-a-view-versus-a-copy\n"
          ]
        },
        {
          "output_type": "execute_result",
          "data": {
            "text/html": [
              "<div>\n",
              "<style scoped>\n",
              "    .dataframe tbody tr th:only-of-type {\n",
              "        vertical-align: middle;\n",
              "    }\n",
              "\n",
              "    .dataframe tbody tr th {\n",
              "        vertical-align: top;\n",
              "    }\n",
              "\n",
              "    .dataframe thead th {\n",
              "        text-align: right;\n",
              "    }\n",
              "</style>\n",
              "<table border=\"1\" class=\"dataframe\">\n",
              "  <thead>\n",
              "    <tr style=\"text-align: right;\">\n",
              "      <th></th>\n",
              "      <th>ID</th>\n",
              "      <th>country</th>\n",
              "      <th>rec_count</th>\n",
              "      <th>guitar</th>\n",
              "      <th>math</th>\n",
              "      <th>physics</th>\n",
              "      <th>piano</th>\n",
              "      <th>presentation</th>\n",
              "      <th>singing</th>\n",
              "      <th>sim_score</th>\n",
              "    </tr>\n",
              "  </thead>\n",
              "  <tbody>\n",
              "    <tr>\n",
              "      <th>0</th>\n",
              "      <td>1</td>\n",
              "      <td>Sri Lanka</td>\n",
              "      <td>5</td>\n",
              "      <td>1</td>\n",
              "      <td>1</td>\n",
              "      <td>0</td>\n",
              "      <td>0</td>\n",
              "      <td>0</td>\n",
              "      <td>0</td>\n",
              "      <td>4</td>\n",
              "    </tr>\n",
              "    <tr>\n",
              "      <th>1</th>\n",
              "      <td>2</td>\n",
              "      <td>England</td>\n",
              "      <td>7</td>\n",
              "      <td>0</td>\n",
              "      <td>0</td>\n",
              "      <td>0</td>\n",
              "      <td>0</td>\n",
              "      <td>1</td>\n",
              "      <td>1</td>\n",
              "      <td>2</td>\n",
              "    </tr>\n",
              "    <tr>\n",
              "      <th>2</th>\n",
              "      <td>3</td>\n",
              "      <td>USA</td>\n",
              "      <td>2</td>\n",
              "      <td>1</td>\n",
              "      <td>0</td>\n",
              "      <td>0</td>\n",
              "      <td>1</td>\n",
              "      <td>0</td>\n",
              "      <td>0</td>\n",
              "      <td>6</td>\n",
              "    </tr>\n",
              "    <tr>\n",
              "      <th>4</th>\n",
              "      <td>5</td>\n",
              "      <td>USA</td>\n",
              "      <td>8</td>\n",
              "      <td>0</td>\n",
              "      <td>1</td>\n",
              "      <td>0</td>\n",
              "      <td>1</td>\n",
              "      <td>0</td>\n",
              "      <td>0</td>\n",
              "      <td>4</td>\n",
              "    </tr>\n",
              "    <tr>\n",
              "      <th>5</th>\n",
              "      <td>6</td>\n",
              "      <td>India</td>\n",
              "      <td>0</td>\n",
              "      <td>1</td>\n",
              "      <td>1</td>\n",
              "      <td>0</td>\n",
              "      <td>1</td>\n",
              "      <td>0</td>\n",
              "      <td>1</td>\n",
              "      <td>4</td>\n",
              "    </tr>\n",
              "  </tbody>\n",
              "</table>\n",
              "</div>"
            ],
            "text/plain": [
              "   ID    country  rec_count  guitar  ...  piano  presentation  singing  sim_score\n",
              "0   1  Sri Lanka          5       1  ...      0             0        0          4\n",
              "1   2    England          7       0  ...      0             1        1          2\n",
              "2   3        USA          2       1  ...      1             0        0          6\n",
              "4   5        USA          8       0  ...      1             0        0          4\n",
              "5   6      India          0       1  ...      1             0        1          4\n",
              "\n",
              "[5 rows x 10 columns]"
            ]
          },
          "metadata": {},
          "execution_count": 134
        }
      ]
    },
    {
      "cell_type": "code",
      "metadata": {
        "colab": {
          "base_uri": "https://localhost:8080/",
          "height": 221
        },
        "id": "Au8mq0uTVNRM",
        "outputId": "da44b034-d836-4d2c-8e98-6b56a10b94f5"
      },
      "source": [
        "sim_tuts_df_scores = rec_score(sim_tuts_df)\n",
        "sim_tuts_df_scores"
      ],
      "execution_count": 135,
      "outputs": [
        {
          "output_type": "stream",
          "name": "stdout",
          "text": [
            "22\n"
          ]
        },
        {
          "output_type": "execute_result",
          "data": {
            "text/html": [
              "<div>\n",
              "<style scoped>\n",
              "    .dataframe tbody tr th:only-of-type {\n",
              "        vertical-align: middle;\n",
              "    }\n",
              "\n",
              "    .dataframe tbody tr th {\n",
              "        vertical-align: top;\n",
              "    }\n",
              "\n",
              "    .dataframe thead th {\n",
              "        text-align: right;\n",
              "    }\n",
              "</style>\n",
              "<table border=\"1\" class=\"dataframe\">\n",
              "  <thead>\n",
              "    <tr style=\"text-align: right;\">\n",
              "      <th></th>\n",
              "      <th>ID</th>\n",
              "      <th>country</th>\n",
              "      <th>rec_count</th>\n",
              "      <th>guitar</th>\n",
              "      <th>math</th>\n",
              "      <th>physics</th>\n",
              "      <th>piano</th>\n",
              "      <th>presentation</th>\n",
              "      <th>singing</th>\n",
              "      <th>sim_score</th>\n",
              "      <th>rec_score</th>\n",
              "      <th>final_score</th>\n",
              "    </tr>\n",
              "  </thead>\n",
              "  <tbody>\n",
              "    <tr>\n",
              "      <th>0</th>\n",
              "      <td>1</td>\n",
              "      <td>Sri Lanka</td>\n",
              "      <td>5</td>\n",
              "      <td>1</td>\n",
              "      <td>1</td>\n",
              "      <td>0</td>\n",
              "      <td>0</td>\n",
              "      <td>0</td>\n",
              "      <td>0</td>\n",
              "      <td>0.5</td>\n",
              "      <td>0.062500</td>\n",
              "      <td>0.562500</td>\n",
              "    </tr>\n",
              "    <tr>\n",
              "      <th>1</th>\n",
              "      <td>2</td>\n",
              "      <td>England</td>\n",
              "      <td>7</td>\n",
              "      <td>0</td>\n",
              "      <td>0</td>\n",
              "      <td>0</td>\n",
              "      <td>0</td>\n",
              "      <td>1</td>\n",
              "      <td>1</td>\n",
              "      <td>0.0</td>\n",
              "      <td>0.015625</td>\n",
              "      <td>0.015625</td>\n",
              "    </tr>\n",
              "    <tr>\n",
              "      <th>2</th>\n",
              "      <td>3</td>\n",
              "      <td>USA</td>\n",
              "      <td>2</td>\n",
              "      <td>1</td>\n",
              "      <td>0</td>\n",
              "      <td>0</td>\n",
              "      <td>1</td>\n",
              "      <td>0</td>\n",
              "      <td>0</td>\n",
              "      <td>1.0</td>\n",
              "      <td>0.250000</td>\n",
              "      <td>1.250000</td>\n",
              "    </tr>\n",
              "    <tr>\n",
              "      <th>4</th>\n",
              "      <td>5</td>\n",
              "      <td>USA</td>\n",
              "      <td>8</td>\n",
              "      <td>0</td>\n",
              "      <td>1</td>\n",
              "      <td>0</td>\n",
              "      <td>1</td>\n",
              "      <td>0</td>\n",
              "      <td>0</td>\n",
              "      <td>0.5</td>\n",
              "      <td>0.000000</td>\n",
              "      <td>0.500000</td>\n",
              "    </tr>\n",
              "    <tr>\n",
              "      <th>5</th>\n",
              "      <td>6</td>\n",
              "      <td>India</td>\n",
              "      <td>0</td>\n",
              "      <td>1</td>\n",
              "      <td>1</td>\n",
              "      <td>0</td>\n",
              "      <td>1</td>\n",
              "      <td>0</td>\n",
              "      <td>1</td>\n",
              "      <td>0.5</td>\n",
              "      <td>1.000000</td>\n",
              "      <td>1.500000</td>\n",
              "    </tr>\n",
              "  </tbody>\n",
              "</table>\n",
              "</div>"
            ],
            "text/plain": [
              "   ID    country  rec_count  guitar  ...  singing  sim_score  rec_score  final_score\n",
              "0   1  Sri Lanka          5       1  ...        0        0.5   0.062500     0.562500\n",
              "1   2    England          7       0  ...        1        0.0   0.015625     0.015625\n",
              "2   3        USA          2       1  ...        0        1.0   0.250000     1.250000\n",
              "4   5        USA          8       0  ...        0        0.5   0.000000     0.500000\n",
              "5   6      India          0       1  ...        1        0.5   1.000000     1.500000\n",
              "\n",
              "[5 rows x 12 columns]"
            ]
          },
          "metadata": {},
          "execution_count": 135
        }
      ]
    },
    {
      "cell_type": "code",
      "metadata": {
        "id": "LBp5IiCoYZtv"
      },
      "source": [
        ""
      ],
      "execution_count": 135,
      "outputs": []
    }
  ]
}